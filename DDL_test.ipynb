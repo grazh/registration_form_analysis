{
  "nbformat": 4,
  "nbformat_minor": 0,
  "metadata": {
    "colab": {
      "provenance": [],
      "authorship_tag": "ABX9TyPcDI5VklmBA1ybMqGQHiky",
      "include_colab_link": true
    },
    "kernelspec": {
      "name": "python3",
      "display_name": "Python 3"
    },
    "language_info": {
      "name": "python"
    }
  },
  "cells": [
    {
      "cell_type": "markdown",
      "metadata": {
        "id": "view-in-github",
        "colab_type": "text"
      },
      "source": [
        "<a href=\"https://colab.research.google.com/github/grazh/registration_form_analysis/blob/main/DDL_test.ipynb\" target=\"_parent\"><img src=\"https://colab.research.google.com/assets/colab-badge.svg\" alt=\"Open In Colab\"/></a>"
      ]
    },
    {
      "cell_type": "markdown",
      "source": [
        "Импортируем библиотеки и считываем данные"
      ],
      "metadata": {
        "id": "4cyq7yRMwAbM"
      }
    },
    {
      "cell_type": "code",
      "execution_count": 245,
      "metadata": {
        "id": "X3JPNTsFA6QE"
      },
      "outputs": [],
      "source": [
        "import os\n",
        "import numpy as np\n",
        "import pandas as pd\n",
        "from scipy import stats\n",
        "from datetime import datetime\n",
        "from google.colab import drive\n",
        "from statsmodels.stats.proportion import proportions_ztest\n",
        "\n",
        "# drive.mount('/content/drive')\n",
        "web_data = pd.read_csv('/content/drive/MyDrive/example_data.txt', sep=',')\n",
        "web_data\n"
      ]
    },
    {
      "cell_type": "markdown",
      "source": [
        "Проверим на дубли"
      ],
      "metadata": {
        "id": "z9GP9iXfXGkb"
      }
    },
    {
      "cell_type": "code",
      "source": [
        "web_data[web_data.duplicated()].sort_values(by=['user_id'])\n",
        "web_data = web_data.drop_duplicates()"
      ],
      "metadata": {
        "id": "XuEWcL93XGW4"
      },
      "execution_count": 208,
      "outputs": []
    },
    {
      "cell_type": "markdown",
      "source": [
        "Изучим датасет и проверим пропуски"
      ],
      "metadata": {
        "id": "0w7OOFd1v9kF"
      }
    },
    {
      "cell_type": "code",
      "source": [
        "def some_info(df):\n",
        "    print(\"Some info about dataset\\n\") \n",
        "    \n",
        "    # Columns\n",
        "    print(\"Cloumns:\\n{}\".format('\\n'.join(list(df.columns))))\n",
        "\n",
        "    # Shape\n",
        "    print(\"This dataset has {} features.\".format(df.shape[1]))\n",
        "    print(\"This dataset has {} observations.\\n\".format(df.shape[0]))\n",
        "    \n",
        "    # Describe\n",
        "    print(\"Describe:\\n\", df.describe(), \"\\n\\n\")\n",
        "    \n",
        "    # Missing values\n",
        "    print(\"Missing values:\\n\", round(df.isna().sum()/int(df.shape[0]), 2), \"\\n\")\n",
        "    \n",
        "    # Data head\n",
        "    print(df.head())\n",
        "\n",
        "\n",
        "some_info(web_data)\n",
        "print(np.unique(web_data['event']))\n",
        "print(min(web_data['timestamp']))\n",
        "print(max(web_data['timestamp']))"
      ],
      "metadata": {
        "colab": {
          "base_uri": "https://localhost:8080/"
        },
        "id": "SJ262VkVXTXP",
        "outputId": "5177f108-5ae8-4092-bae2-a9a92b7d87f5"
      },
      "execution_count": 209,
      "outputs": [
        {
          "output_type": "stream",
          "name": "stdout",
          "text": [
            "Some info about dataset\n",
            "\n",
            "Cloumns:\n",
            "user_id\n",
            "timestamp\n",
            "event\n",
            "This dataset has 3 features.\n",
            "This dataset has 1005456 observations.\n",
            "\n",
            "Describe:\n",
            "                                  user_id                      timestamp  \\\n",
            "count                            1005456                        1005456   \n",
            "unique                            261130                         938229   \n",
            "top     c9be7da3b5c975cc2795f15d45f0390a  2021-01-29 02:15:25.086335450   \n",
            "freq                                5128                              9   \n",
            "\n",
            "          event  \n",
            "count   1005456  \n",
            "unique        5  \n",
            "top     landing  \n",
            "freq     366034   \n",
            "\n",
            "\n",
            "Missing values:\n",
            " user_id      0.0\n",
            "timestamp    0.0\n",
            "event        0.0\n",
            "dtype: float64 \n",
            "\n",
            "                            user_id                      timestamp    event\n",
            "0  148870bfa84777898359aaa8e120a373  2021-01-01 00:00:01.000000000  landing\n",
            "1  ac3948ea43cb39cdc4e739004d252d0b  2021-01-01 00:00:01.445020335  landing\n",
            "2  48a0df50d7ed1fcaaddf742b828b85e5  2021-01-01 00:00:10.566157670    login\n",
            "3  70fbdd335abb11a3d072b5de7b218048  2021-01-01 00:00:10.764937005     main\n",
            "4  48a0df50d7ed1fcaaddf742b828b85e5  2021-01-01 00:00:10.764937005    login\n",
            "['landing' 'login' 'main' 'registration' 'registration_new']\n",
            "2021-01-01 00:00:01.000000000\n",
            "2021-04-07 13:20:34.394602584\n"
          ]
        }
      ]
    },
    {
      "cell_type": "markdown",
      "source": [
        "Убираем незарегистрированных пользователей"
      ],
      "metadata": {
        "id": "Ao2o5tnN9e7_"
      }
    },
    {
      "cell_type": "code",
      "source": [
        "registration_users_pre = web_data[web_data['event'].isin(['registration', 'registration_new'])]\n",
        "\n",
        "# Определяем группу пользователя\n",
        "registration_users_pre['test_control'] = registration_users_pre['event'].apply(lambda x: 'test' if x == 'registration_new' else 'control')\n",
        "registration_users_pre = registration_users_pre[['user_id', 'test_control']]\n",
        "\n",
        "# Проверяем выборки на пересечение\n",
        "registration_users_pre.groupby('user_id').nunique().sort_values(by='test_control')\n",
        "# Выборки не пересекаются\n",
        "\n",
        "# Выделяем только зарегистрировавшихся клиентов\n",
        "registration_users = registration_users_pre[['user_id', 'test_control']].drop_duplicates()\n",
        "\n",
        "# Оставляем в данных только зарегистрировавшихся клиентов\n",
        "clean_data = web_data.merge(registration_users, how='inner', on='user_id')\n"
      ],
      "metadata": {
        "id": "ZTzQ_MI27Rbw"
      },
      "execution_count": null,
      "outputs": []
    },
    {
      "cell_type": "markdown",
      "source": [
        "Считаем различия в количестве попыток зарегистрироваться\n"
      ],
      "metadata": {
        "id": "Q4xXkFmQLJ6h"
      }
    },
    {
      "cell_type": "code",
      "source": [
        "alpha_ = 0.05\n",
        "\n",
        "test_group = clean_data[clean_data['test_control'] == 'test']\n",
        "control_group = clean_data[clean_data['test_control'] == 'control']\n",
        "\n",
        "def registration_attempts(data):\n",
        "    data = data[data['event'].isin(['registration', 'registration_new'])]\n",
        "    return data.groupby('user_id').count()['event']\n",
        "\n",
        "test_attempts = registration_attempts(test_group)\n",
        "control_attempts = registration_attempts(control_group)\n",
        "\n",
        "\n",
        "def check_significance(test, control, metric):\n",
        "    print(f\"\"\"Различия между тестом ({round(test.mean(),2)}) и контролем ({round(control.mean(),2)}) в {metric} {['' if stats.ttest_ind(test, control).pvalue < alpha_ else 'не '][0]}являются статзначимыми.\n",
        "p-value: {round(stats.ttest_ind(test, control).pvalue, 2)}\\n\"\"\")\n",
        "  \n",
        "check_significance(test_attempts, control_attempts, 'среднем количестве попыток регистрации')"
      ],
      "metadata": {
        "colab": {
          "base_uri": "https://localhost:8080/"
        },
        "id": "1C1pOSp3-C8h",
        "outputId": "97243eae-71a2-4878-fa43-b45dc27f1dfd"
      },
      "execution_count": 278,
      "outputs": [
        {
          "output_type": "stream",
          "name": "stdout",
          "text": [
            "Различия между тестом (2.14) и контролем (2.08) в среднем количестве попыток регистрации не являются статзначимыми.\n",
            "p-value: 0.35\n",
            "\n"
          ]
        }
      ]
    },
    {
      "cell_type": "markdown",
      "source": [
        "Считаем различия в конверсии в успешную регистрацию\n"
      ],
      "metadata": {
        "id": "AJafIGEFikQt"
      }
    },
    {
      "cell_type": "code",
      "source": [
        "conversion_df = clean_data.copy()\n",
        "conversion_df = conversion_df.sort_values(by='user_id')\n",
        "conversion_df['next_action'] = conversion_df.groupby(['user_id']).shift(-1)['event']\n",
        "conversion_df.sort_values(by='user_id')\n",
        "\n",
        "def conversion_rate(data):\n",
        "    pre_result = data[data['event'].isin(['registration', 'registration_new'])].copy()\n",
        "    pre_result['success'] = pre_result['next_action'].apply(lambda x: 1 if x == 'main' else 0)\n",
        "    \n",
        "    return pre_result.groupby('user_id')['success'].max()\n",
        "  \n",
        "test_conversion = conversion_rate(conversion_df[conversion_df['test_control'] == 'test'])\n",
        "control_conversion = conversion_rate(conversion_df[conversion_df['test_control'] == 'control'])\n",
        "\n",
        "check_significance(test_conversion, control_conversion, 'конверсии в успешную регистрацию')\n"
      ],
      "metadata": {
        "colab": {
          "base_uri": "https://localhost:8080/"
        },
        "id": "zxUQ7FWNb5PP",
        "outputId": "a6802b39-5125-4350-ca59-5313666f11b2"
      },
      "execution_count": 310,
      "outputs": [
        {
          "output_type": "stream",
          "name": "stdout",
          "text": [
            "Различия между тестом (0.29) и контролем (0.27) в конверсии в успешную регистрацию являются статзначимыми.\n",
            "p-value: 0.03\n",
            "\n"
          ]
        }
      ]
    },
    {
      "cell_type": "markdown",
      "source": [
        "Смотрим на активность пользователей"
      ],
      "metadata": {
        "id": "Hyh4ItFvttJV"
      }
    },
    {
      "cell_type": "code",
      "source": [
        "def compare_activity(data):\n",
        "    result = data.copy()\n",
        "    result['flag'] = result['event'].apply(lambda x: 1 if x in ['registration', 'registration_new'] else 0)\n",
        "    result['new_flag'] = result.groupby('user_id').flag.transform(lambda x: x.cumsum())\n",
        "\n",
        "    result = result[(result['new_flag'] > 0) & (result['flag'] == 0)]\n",
        "    return result.groupby('user_id').count()['event']\n",
        "\n",
        "\n",
        "check_significance(compare_activity(test_group), compare_activity(control_group), 'среднем количестве посещений разделов сайта')\n"
      ],
      "metadata": {
        "colab": {
          "base_uri": "https://localhost:8080/"
        },
        "id": "otNNMVkYtv3j",
        "outputId": "6c694275-f9ea-4178-f74d-9064516da378"
      },
      "execution_count": 317,
      "outputs": [
        {
          "output_type": "stream",
          "name": "stdout",
          "text": [
            "Различия между тестом (11.39) и контролем (11.69) в среднем количестве посещений разделов сайта не являются статзначимыми.\n",
            "p-value: 0.84\n",
            "\n"
          ]
        }
      ]
    },
    {
      "cell_type": "code",
      "source": [],
      "metadata": {
        "id": "D0uX1j6c11yP"
      },
      "execution_count": null,
      "outputs": []
    }
  ]
}